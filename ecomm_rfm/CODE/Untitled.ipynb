{
 "cells": [
  {
   "cell_type": "markdown",
   "id": "b5166dee",
   "metadata": {},
   "source": [
    "#### Market Basket Analysis "
   ]
  },
  {
   "cell_type": "markdown",
   "id": "2a926dac",
   "metadata": {},
   "source": [
    "When we go grocery shopping, we often have a standard list of things to buy. Each shopper has a distinctive list, depending on one’s needs and preferences. A housewife might buy healthy ingredients for a family dinner, while a bachelor might buy beer and chips. Understanding these buying patterns can help to increase sales in several ways. If there is a pair of items, X and Y, that are frequently bought together:"
   ]
  },
  {
   "cell_type": "code",
   "execution_count": 1,
   "id": "1dd66112",
   "metadata": {},
   "outputs": [
    {
     "ename": "SyntaxError",
     "evalue": "invalid syntax (<ipython-input-1-55789207465e>, line 1)",
     "output_type": "error",
     "traceback": [
      "\u001b[1;36m  File \u001b[1;32m\"<ipython-input-1-55789207465e>\"\u001b[1;36m, line \u001b[1;32m1\u001b[0m\n\u001b[1;33m    import mlxtend missing?\u001b[0m\n\u001b[1;37m                   ^\u001b[0m\n\u001b[1;31mSyntaxError\u001b[0m\u001b[1;31m:\u001b[0m invalid syntax\n"
     ]
    }
   ],
   "source": [
    "import mlxtend missing? \n",
    "\n",
    "dfm = df.copy(deep = True)\n",
    "\n",
    "dfm.set_index(['invoicedate'], inplace = True) \n",
    "\n",
    "print(f'The dataset has {dfm.shape[0]} rows and {dfm.shape[1]} columns')"
   ]
  },
  {
   "cell_type": "markdown",
   "id": "e96e0824",
   "metadata": {},
   "source": [
    "#### Handling Missing Data"
   ]
  },
  {
   "cell_type": "code",
   "execution_count": 2,
   "id": "f88ada74",
   "metadata": {},
   "outputs": [
    {
     "ename": "NameError",
     "evalue": "name 'msno' is not defined",
     "output_type": "error",
     "traceback": [
      "\u001b[1;31m---------------------------------------------------------------------------\u001b[0m",
      "\u001b[1;31mNameError\u001b[0m                                 Traceback (most recent call last)",
      "\u001b[1;32m<ipython-input-2-2d9e5c6e0f98>\u001b[0m in \u001b[0;36m<module>\u001b[1;34m\u001b[0m\n\u001b[1;32m----> 1\u001b[1;33m \u001b[0mmsno\u001b[0m\u001b[1;33m.\u001b[0m\u001b[0mmatrix\u001b[0m\u001b[1;33m(\u001b[0m\u001b[0mdfm\u001b[0m\u001b[1;33m)\u001b[0m\u001b[1;33m\u001b[0m\u001b[1;33m\u001b[0m\u001b[0m\n\u001b[0m\u001b[0;32m      2\u001b[0m \u001b[0mplt\u001b[0m\u001b[1;33m.\u001b[0m\u001b[0mshow\u001b[0m\u001b[1;33m(\u001b[0m\u001b[1;33m)\u001b[0m\u001b[1;33m\u001b[0m\u001b[1;33m\u001b[0m\u001b[0m\n\u001b[0;32m      3\u001b[0m \u001b[1;33m\u001b[0m\u001b[0m\n\u001b[0;32m      4\u001b[0m \u001b[1;31m# Check for customer id\u001b[0m\u001b[1;33m\u001b[0m\u001b[1;33m\u001b[0m\u001b[1;33m\u001b[0m\u001b[0m\n\u001b[0;32m      5\u001b[0m \u001b[0mdfm\u001b[0m\u001b[1;33m.\u001b[0m\u001b[0misna\u001b[0m\u001b[1;33m(\u001b[0m\u001b[1;33m)\u001b[0m\u001b[1;33m.\u001b[0m\u001b[0msum\u001b[0m\u001b[1;33m(\u001b[0m\u001b[1;33m)\u001b[0m\u001b[1;33m\u001b[0m\u001b[1;33m\u001b[0m\u001b[0m\n",
      "\u001b[1;31mNameError\u001b[0m: name 'msno' is not defined"
     ]
    }
   ],
   "source": [
    "msno.matrix(dfm)\n",
    "plt.show()\n",
    "\n",
    "# Check for customer id \n",
    "dfm.isna().sum()\n",
    "\n",
    "# Without these descriptions, we wouldn't be able to compute any association rules \n",
    "dfm.loc[dfm['description'].isna(), :]\n",
    "\n",
    "dfm.dropna(subset = ['description', 'customerid'], inplace = True)\n",
    "\n",
    "dfm.drop_duplicates(inplace = True)\n",
    "\n",
    "dfm['cancelled'] = dfm['invoiceno'].apply(lambda x: 1 if x[0] == 'C' else 0)\n",
    "\n",
    "# Drop cancelled orders\n",
    "dfm = dfm[dfm['cancelled'] == 0]\n",
    "\n",
    "dfm = dfm[(dfm['quantity'] > 0) & (dfm['unitprice'] > 0)]\n",
    "\n",
    "dfm['invoiceno'].value_counts()\n",
    "\n",
    "# drop transactions of a single item\n",
    "inv = pd.DataFrame(dfm['invoiceno'].value_counts())\n",
    "\n",
    "multi_inv = inv[inv['invoiceno'] > 2]\n",
    "\n",
    "multi_inv.index \n",
    "\n",
    "dfm = dfm[dfm['invoiceno'].isin(multi_inv.index)]\n",
    "\n",
    "dfm.shape"
   ]
  },
  {
   "cell_type": "markdown",
   "id": "20826414",
   "metadata": {},
   "source": [
    "#### Frequent sets and association rules with apriori:"
   ]
  },
  {
   "cell_type": "code",
   "execution_count": null,
   "id": "b54bb6b1",
   "metadata": {},
   "outputs": [],
   "source": [
    "dfm['description'] = dfm['description'].str.strip().str.lower()\n",
    "dfm.reset_index(inplace = True)\n",
    "\n",
    "basket = pd.get_dummies(dfm.loc[:, 'description'])\n",
    "\n",
    "basket = basket.assign(invoiceno = dfm['invoiceno'])\n",
    "\n",
    "basket_sets = basket.groupby('invoiceno').agg(np.max, axis = 0)"
   ]
  },
  {
   "cell_type": "markdown",
   "id": "f4f59062",
   "metadata": {},
   "source": [
    "## Apriori Algorithm: Frequent Itemsets\n"
   ]
  },
  {
   "cell_type": "code",
   "execution_count": null,
   "id": "2e9ed117",
   "metadata": {},
   "outputs": [],
   "source": [
    "# Note that min_support parameter was set to a very low value, this is the Spurious limitation, more on conclusion section\n",
    "frequent_itemsets = apriori(basket_sets, min_support=0.03, use_colnames=True)\n",
    "frequent_itemsets['length'] = frequent_itemsets['itemsets'].apply(lambda x: len(x))\n",
    "\n",
    "# Advanced and strategical data frequent set selection\n",
    "frequent_itemsets[ (frequent_itemsets['length'] > 1) &\n",
    "                   (frequent_itemsets['support'] >= 0.02) ].head()\n",
    "\n",
    "# Generating the association_rules: rules\n",
    "# Selecting the important parameters for analysis\n",
    "rules = association_rules(frequent_itemsets, metric=\"lift\", min_threshold=1)\n",
    "rules[['antecedants', 'consequents', 'support', 'confidence', 'lift']].sort_values('support', ascending=False).head()\n",
    "\n",
    "# Visualizing the rules distribution color mapped by Lift\n",
    "plt.figure(figsize=(14, 8))\n",
    "plt.scatter(rules['support'], rules['confidence'], c=rules['lift'], alpha=0.9, cmap='YlOrRd');\n",
    "plt.title('Rules distribution color mapped by lift');\n",
    "plt.xlabel('Support')\n",
    "plt.ylabel('Confidence')\n",
    "plt.colorbar();"
   ]
  },
  {
   "cell_type": "markdown",
   "id": "1ef6a7a2",
   "metadata": {},
   "source": [
    "## Conclusions\n",
    "Potential of the solution\n",
    "\n",
    "* Implementation simplicity\n",
    "* Once again, the implementation of the solution in terms of code is simple. Deployement in most cases can be report based exporting the relevant rules for discussion.\n",
    "\n",
    "* Statistical interpretation\n",
    "* The statistical interpretation of how support, confidence and lift can correlate with marketing strategies take some time and know how on the field where it's being applied. Start here for explanations about the output attributes from this model.\n",
    "\n",
    "* Apriori limitations\n",
    "\n",
    "* As seen on the KDNuggets article referenced in the Introduction, we faced the Spurious Associations limitation. This happend due to the eCommerce business model, a large number of possibilities in a single basket among an even larger number of baskets. The consequence of it is having a \"sparse matrix\", full of 0s which causes the support of basket occourances to drop drastically. The output achieved has its top support of 0.051 (5%). Such limitation might be overcome by working with the entire data set, remember that only 30000 top rows were analysed, or this could dilute the support values even more. As a last optio"
   ]
  },
  {
   "cell_type": "code",
   "execution_count": null,
   "id": "105ac6cb",
   "metadata": {},
   "outputs": [],
   "source": []
  }
 ],
 "metadata": {
  "kernelspec": {
   "display_name": "Python 3",
   "language": "python",
   "name": "python3"
  },
  "language_info": {
   "codemirror_mode": {
    "name": "ipython",
    "version": 3
   },
   "file_extension": ".py",
   "mimetype": "text/x-python",
   "name": "python",
   "nbconvert_exporter": "python",
   "pygments_lexer": "ipython3",
   "version": "3.8.3"
  }
 },
 "nbformat": 4,
 "nbformat_minor": 5
}
